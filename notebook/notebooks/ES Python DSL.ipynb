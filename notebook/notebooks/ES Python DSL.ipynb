{
 "cells": [
  {
   "cell_type": "code",
   "execution_count": 3,
   "metadata": {},
   "outputs": [],
   "source": [
    "from elasticsearch import Elasticsearch\n",
    "from elasticsearch_dsl import Search\n",
    "\n",
    "client = Elasticsearch(['elasticsearch'])\n",
    "indice = \"syslog-*\""
   ]
  },
  {
   "cell_type": "code",
   "execution_count": 5,
   "metadata": {},
   "outputs": [
    {
     "name": "stdout",
     "output_type": "stream",
     "text": [
      "Total 2132 hits found.\n"
     ]
    }
   ],
   "source": [
    "s = Search(index=indice).using(client).query(\"term\", message=\"pretty\")\n",
    "response = s.execute()\n",
    "\n",
    "print('Total %d hits found.' % response.hits.total['value'])\n"
   ]
  },
  {
   "cell_type": "code",
   "execution_count": 7,
   "metadata": {},
   "outputs": [
    {
     "data": {
      "text/plain": [
       "{'value': 2132, 'relation': 'eq'}"
      ]
     },
     "execution_count": 7,
     "metadata": {},
     "output_type": "execute_result"
    }
   ],
   "source": [
    "response.hits.total"
   ]
  },
  {
   "cell_type": "code",
   "execution_count": 8,
   "metadata": {},
   "outputs": [
    {
     "name": "stdout",
     "output_type": "stream",
     "text": [
      "<142>2 2021-07-21T08:41:42.601Z we.org benefritz 4921 ID200 - Pretty pretty pretty good\n",
      "<166>1 2021-07-21T08:41:42.621Z up.com meln1ks 5266 ID370 - Pretty pretty pretty good\n",
      "<3>2 2021-07-21T08:41:42.751Z we.net jesseddy 9277 ID799 - Pretty pretty pretty good\n",
      "<139>1 2021-07-21T08:41:42.841Z names.de jesseddy 9510 ID500 - Pretty pretty pretty good\n",
      "<128>2 2021-07-21T08:41:42.911Z make.org Karimmove 7547 ID961 - Pretty pretty pretty good\n",
      "<162>1 2021-07-21T08:41:42.961Z we.us meln1ks 9047 ID144 - Pretty pretty pretty good\n",
      "<11>1 2021-07-21T08:41:42.980Z up.us Karimmove 4657 ID663 - Pretty pretty pretty good\n",
      "<168>2 2021-07-21T08:41:43.121Z for.org shaneIxD 8270 ID819 - Pretty pretty pretty good\n",
      "<13>2 2021-07-21T08:41:43.350Z up.com benefritz 5213 ID722 - Pretty pretty pretty good\n",
      "<136>2 2021-07-21T08:41:43.381Z for.de devankoshal 4877 ID260 - Pretty pretty pretty good\n"
     ]
    }
   ],
   "source": [
    "for h in response:\n",
    "    print(h.raw)"
   ]
  },
  {
   "cell_type": "code",
   "execution_count": null,
   "metadata": {},
   "outputs": [],
   "source": []
  }
 ],
 "metadata": {
  "kernelspec": {
   "display_name": "Python 3",
   "language": "python",
   "name": "python3"
  },
  "language_info": {
   "codemirror_mode": {
    "name": "ipython",
    "version": 3
   },
   "file_extension": ".py",
   "mimetype": "text/x-python",
   "name": "python",
   "nbconvert_exporter": "python",
   "pygments_lexer": "ipython3",
   "version": "3.8.8"
  }
 },
 "nbformat": 4,
 "nbformat_minor": 4
}
