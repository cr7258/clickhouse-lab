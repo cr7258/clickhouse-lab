{
 "cells": [
  {
   "cell_type": "markdown",
   "metadata": {},
   "source": [
    "Initialization of ES"
   ]
  },
  {
   "cell_type": "code",
   "execution_count": 1,
   "metadata": {},
   "outputs": [],
   "source": [
    "from elasticsearch import Elasticsearch\n",
    "\n",
    "client = Elasticsearch(['elasticsearch'])\n",
    "indice = \"syslog-*\""
   ]
  },
  {
   "cell_type": "markdown",
   "metadata": {},
   "source": [
    "1. Query All "
   ]
  },
  {
   "cell_type": "code",
   "execution_count": 2,
   "metadata": {},
   "outputs": [
    {
     "name": "stdout",
     "output_type": "stream",
     "text": [
      "Got 35119 Hits:\n",
      "10000\n",
      "10000\n",
      "10000\n",
      "5119\n"
     ]
    }
   ],
   "source": [
    "query = {\n",
    "    \"query\": {\n",
    "        \"match_all\": {}\n",
    "    }\n",
    "}\n",
    "\n",
    "res = client.search(index=indice, body=query, scroll='100m', size=10000)\n",
    "\n",
    "print(\"Got %d Hits:\" % res['hits']['total']['value'])\n",
    "    \n",
    "sid = res['_scroll_id']\n",
    "scroll_size = len(res['hits']['hits'])\n",
    "\n",
    "while scroll_size > 0:\n",
    "    \"Scrolling...\"\n",
    "    print(scroll_size)\n",
    "    data = client.scroll(scroll_id=sid, scroll='2m')\n",
    "    # Update the scroll ID\n",
    "    sid = data['_scroll_id']\n",
    "    # Get the number of results that returned in the last scroll\n",
    "    scroll_size = len(data['hits']['hits'])"
   ]
  },
  {
   "cell_type": "markdown",
   "metadata": {},
   "source": [
    "2. Match Query"
   ]
  },
  {
   "cell_type": "code",
   "execution_count": 3,
   "metadata": {},
   "outputs": [
    {
     "name": "stdout",
     "output_type": "stream",
     "text": [
      "Got 1108 Hits:\n",
      "2021-07-21T08:45:24.811Z <23>1 2021-07-21T08:45:24.811Z for.org shaneIxD 3092 ID491 - There's a breach in the warp core, captain\n",
      "2021-07-21T08:45:24.981Z <115>1 2021-07-21T08:45:24.981Z for.org ahmadajmi 7604 ID700 - A bug was encountered but not in Vector, which doesn't have bugs\n",
      "2021-07-21T08:45:25.011Z <178>1 2021-07-21T08:45:25.011Z for.org Karimmove 4403 ID240 - We're gonna need a bigger boat\n",
      "2021-07-21T08:45:25.091Z <18>1 2021-07-21T08:45:25.091Z for.org ahmadajmi 8081 ID449 - Pretty pretty pretty good\n",
      "2021-07-21T08:45:25.121Z <91>2 2021-07-21T08:45:25.121Z for.org devankoshal 5769 ID103 - A bug was encountered but not in Vector, which doesn't have bugs\n",
      "2021-07-21T08:45:25.281Z <22>2 2021-07-21T08:45:25.281Z for.org devankoshal 4576 ID870 - #hugops to everyone who has to deal with this\n",
      "2021-07-21T08:45:25.511Z <75>1 2021-07-21T08:45:25.511Z for.org jesseddy 3114 ID35 - Great Scott! We're never gonna reach 88 mph with the flux capacitor in its current state!\n",
      "2021-07-21T08:45:25.901Z <22>2 2021-07-21T08:45:25.901Z for.org devankoshal 6113 ID649 - Great Scott! We're never gonna reach 88 mph with the flux capacitor in its current state!\n",
      "2021-07-21T08:45:26.171Z <15>1 2021-07-21T08:45:26.171Z for.org shaneIxD 7758 ID512 - We're gonna need a bigger boat\n",
      "2021-07-21T08:45:26.470Z <178>1 2021-07-21T08:45:26.470Z for.org meln1ks 4814 ID888 - Pretty pretty pretty good\n"
     ]
    }
   ],
   "source": [
    "query = {\n",
    "    \"query\": {\n",
    "        \"match\": {\n",
    "            \"hostname\":\"for.org\"\n",
    "        }\n",
    "    }\n",
    "}\n",
    "\n",
    "res = client.search(index=indice, body=query)\n",
    "\n",
    "print(\"Got %d Hits:\" % res['hits']['total']['value'])\n",
    "for hit in res['hits']['hits']:\n",
    "    print(\"%(timestamp)s %(raw)s\" % hit[\"_source\"])"
   ]
  },
  {
   "cell_type": "markdown",
   "metadata": {},
   "source": [
    "3. Multi Match"
   ]
  },
  {
   "cell_type": "code",
   "execution_count": 4,
   "metadata": {},
   "outputs": [
    {
     "name": "stdout",
     "output_type": "stream",
     "text": [
      "Got 6768 Hits:\n",
      "2021-07-21T08:45:25.320Z <143>2 2021-07-21T08:45:25.320Z up.com meln1ks 5366 ID85 - Take a breath, let it go, walk away\n",
      "2021-07-21T08:45:25.371Z <77>2 2021-07-21T08:45:25.371Z up.com benefritz 5570 ID788 - Maybe we just shouldn't use computers\n",
      "2021-07-21T08:45:25.811Z <70>2 2021-07-21T08:45:25.811Z up.com jesseddy 2857 ID178 - Great Scott! We're never gonna reach 88 mph with the flux capacitor in its current state!\n",
      "2021-07-21T08:45:26.401Z <145>2 2021-07-21T08:45:26.401Z up.com ahmadajmi 6473 ID51 - Maybe we just shouldn't use computers\n",
      "2021-07-21T08:45:26.531Z <41>1 2021-07-21T08:45:26.531Z up.com devankoshal 5170 ID924 - #hugops to everyone who has to deal with this\n",
      "2021-07-21T08:45:26.641Z <6>1 2021-07-21T08:45:26.641Z up.com benefritz 8272 ID965 - You're not gonna believe what just happened\n",
      "2021-07-21T08:45:26.780Z <69>2 2021-07-21T08:45:26.780Z up.com jesseddy 2141 ID294 - We're gonna need a bigger boat\n",
      "2021-07-21T08:45:27.141Z <60>1 2021-07-21T08:45:27.141Z up.com shaneIxD 1692 ID656 - Pretty pretty pretty good\n",
      "2021-07-21T08:45:27.701Z <28>1 2021-07-21T08:45:27.701Z up.com ahmadajmi 5128 ID748 - Great Scott! We're never gonna reach 88 mph with the flux capacitor in its current state!\n",
      "2021-07-21T08:45:28.751Z <113>1 2021-07-21T08:45:28.751Z up.com ahmadajmi 6706 ID218 - A bug was encountered but not in Vector, which doesn't have bugs\n"
     ]
    }
   ],
   "source": [
    "query = {\n",
    "    \"query\": {\n",
    "        \"multi_match\": {\n",
    "            \"query\": \"up.com ahmadajmi\", \n",
    "            \"fields\":[\"hostname\", \"application\"]\n",
    "        }\n",
    "    }\n",
    "}\n",
    "\n",
    "res = client.search(index=indice, body=query)\n",
    "\n",
    "print(\"Got %d Hits:\" % res['hits']['total']['value'])\n",
    "for hit in res['hits']['hits']:\n",
    "    print(\"%(timestamp)s %(raw)s\" % hit[\"_source\"])"
   ]
  },
  {
   "cell_type": "markdown",
   "metadata": {},
   "source": [
    "4. String Query"
   ]
  },
  {
   "cell_type": "code",
   "execution_count": null,
   "metadata": {},
   "outputs": [],
   "source": [
    "query = {\n",
    "  \"query\": {\n",
    "    \"query_string\": {\n",
    "      \"query\": \"(for.org) AND (pretty breath) \"\n",
    "    }\n",
    "  }\n",
    "}\n",
    "\n",
    "res = client.search(index=indice, body=query)\n",
    "\n",
    "print(\"Got %d Hits:\" % res['hits']['total']['value'])\n",
    "for hit in res['hits']['hits']:\n",
    "    print(\"%(timestamp)s %(raw)s\" % hit[\"_source\"])"
   ]
  },
  {
   "cell_type": "markdown",
   "metadata": {},
   "source": [
    "5. Term Query"
   ]
  },
  {
   "cell_type": "code",
   "execution_count": 5,
   "metadata": {},
   "outputs": [
    {
     "name": "stdout",
     "output_type": "stream",
     "text": [
      "Got 4807 Hits:\n",
      "2021-07-21T08:45:24.591Z <178>1 2021-07-21T08:45:24.591Z we.com jesseddy 5994 ID544 - Pretty pretty pretty good\n",
      "2021-07-21T08:45:24.711Z <14>1 2021-07-21T08:45:24.711Z some.org Karimmove 8358 ID568 - Pretty pretty pretty good\n",
      "2021-07-21T08:45:24.851Z <40>1 2021-07-21T08:45:24.851Z random.us devankoshal 1322 ID451 - Pretty pretty pretty good\n",
      "2021-07-21T08:45:24.891Z <68>1 2021-07-21T08:45:24.891Z up.us devankoshal 7122 ID704 - Pretty pretty pretty good\n",
      "2021-07-21T08:45:24.921Z <101>1 2021-07-21T08:45:24.921Z we.com benefritz 3822 ID947 - Pretty pretty pretty good\n",
      "2021-07-21T08:45:25.091Z <18>1 2021-07-21T08:45:25.091Z for.org ahmadajmi 8081 ID449 - Pretty pretty pretty good\n",
      "2021-07-21T08:45:25.191Z <156>1 2021-07-21T08:45:25.191Z we.org ahmadajmi 4916 ID95 - Pretty pretty pretty good\n",
      "2021-07-21T08:45:25.241Z <159>1 2021-07-21T08:45:25.241Z make.com benefritz 4619 ID592 - Pretty pretty pretty good\n",
      "2021-07-21T08:45:25.251Z <63>1 2021-07-21T08:45:25.251Z make.de shaneIxD 8582 ID702 - Pretty pretty pretty good\n",
      "2021-07-21T08:45:25.641Z <131>1 2021-07-21T08:45:25.641Z some.de Karimmove 8474 ID243 - Pretty pretty pretty good\n"
     ]
    }
   ],
   "source": [
    "query = {\n",
    "   \"query\":{\n",
    "      \"term\":{\"message\":\"pretty\"}\n",
    "   }\n",
    "}\n",
    "\n",
    "res = client.search(index=indice, body=query)\n",
    "\n",
    "print(\"Got %d Hits:\" % res['hits']['total']['value'])\n",
    "for hit in res['hits']['hits']:\n",
    "    print(\"%(timestamp)s %(raw)s\" % hit[\"_source\"])"
   ]
  },
  {
   "cell_type": "markdown",
   "metadata": {},
   "source": [
    "6. Range Query"
   ]
  },
  {
   "cell_type": "code",
   "execution_count": 6,
   "metadata": {},
   "outputs": [
    {
     "name": "stdout",
     "output_type": "stream",
     "text": [
      "Got 10000 Hits:\n",
      "2021-07-21T08:45:24.601Z <128>2 2021-07-21T08:45:24.601Z we.org benefritz 3125 ID149 - We're gonna need a bigger boat\n",
      "2021-07-21T08:45:24.611Z <143>2 2021-07-21T08:45:24.611Z up.org ahmadajmi 8924 ID384 - Take a breath, let it go, walk away\n",
      "2021-07-21T08:45:24.631Z <6>2 2021-07-21T08:45:24.631Z for.com Karimmove 9308 ID196 - You're not gonna believe what just happened\n",
      "2021-07-21T08:45:24.651Z <143>2 2021-07-21T08:45:24.651Z we.net jesseddy 310 ID814 - There's a breach in the warp core, captain\n",
      "2021-07-21T08:45:24.661Z <93>2 2021-07-21T08:45:24.661Z make.org shaneIxD 7673 ID148 - A bug was encountered but not in Vector, which doesn't have bugs\n",
      "2021-07-21T08:45:24.672Z <58>2 2021-07-21T08:45:24.672Z for.com ahmadajmi 669 ID828 - There's a breach in the warp core, captain\n",
      "2021-07-21T08:45:24.681Z <160>2 2021-07-21T08:45:24.681Z names.org benefritz 969 ID513 - Great Scott! We're never gonna reach 88 mph with the flux capacitor in its current state!\n",
      "2021-07-21T08:45:24.701Z <183>2 2021-07-21T08:45:24.701Z names.org ahmadajmi 272 ID276 - There's a breach in the warp core, captain\n",
      "2021-07-21T08:45:24.781Z <39>2 2021-07-21T08:45:24.781Z for.us Karimmove 2823 ID946 - Maybe we just shouldn't use computers\n",
      "2021-07-21T08:45:24.841Z <25>2 2021-07-21T08:45:24.841Z names.us ahmadajmi 6290 ID822 - You're not gonna believe what just happened\n"
     ]
    }
   ],
   "source": [
    "query = {\n",
    "   \"query\":{\n",
    "      \"range\":{\n",
    "         \"version\":{\n",
    "            \"gte\":2\n",
    "         }\n",
    "      }\n",
    "   }\n",
    "}\n",
    "\n",
    "res = client.search(index=indice, body=query)\n",
    "\n",
    "print(\"Got %d Hits:\" % res['hits']['total']['value'])\n",
    "for hit in res['hits']['hits']:\n",
    "    print(\"%(timestamp)s %(raw)s\" % hit[\"_source\"])"
   ]
  },
  {
   "cell_type": "markdown",
   "metadata": {},
   "source": [
    "7. Exist Query"
   ]
  },
  {
   "cell_type": "code",
   "execution_count": 7,
   "metadata": {},
   "outputs": [
    {
     "name": "stdout",
     "output_type": "stream",
     "text": [
      "Got 10000 Hits:\n",
      "2021-07-21T08:45:24.581Z <159>1 2021-07-21T08:45:24.581Z for.us meln1ks 9602 ID642 - There's a breach in the warp core, captain\n",
      "2021-07-21T08:45:24.591Z <178>1 2021-07-21T08:45:24.591Z we.com jesseddy 5994 ID544 - Pretty pretty pretty good\n",
      "2021-07-21T08:45:24.601Z <128>2 2021-07-21T08:45:24.601Z we.org benefritz 3125 ID149 - We're gonna need a bigger boat\n",
      "2021-07-21T08:45:24.611Z <143>2 2021-07-21T08:45:24.611Z up.org ahmadajmi 8924 ID384 - Take a breath, let it go, walk away\n",
      "2021-07-21T08:45:24.621Z <48>1 2021-07-21T08:45:24.621Z up.de ahmadajmi 6519 ID934 - A bug was encountered but not in Vector, which doesn't have bugs\n",
      "2021-07-21T08:45:24.631Z <6>2 2021-07-21T08:45:24.631Z for.com Karimmove 9308 ID196 - You're not gonna believe what just happened\n",
      "2021-07-21T08:45:24.641Z <67>1 2021-07-21T08:45:24.641Z names.com meln1ks 1245 ID984 - We're gonna need a bigger boat\n",
      "2021-07-21T08:45:24.651Z <143>2 2021-07-21T08:45:24.651Z we.net jesseddy 310 ID814 - There's a breach in the warp core, captain\n",
      "2021-07-21T08:45:24.661Z <93>2 2021-07-21T08:45:24.661Z make.org shaneIxD 7673 ID148 - A bug was encountered but not in Vector, which doesn't have bugs\n",
      "2021-07-21T08:45:24.672Z <58>2 2021-07-21T08:45:24.672Z for.com ahmadajmi 669 ID828 - There's a breach in the warp core, captain\n"
     ]
    }
   ],
   "source": [
    "query = {\n",
    "  \"query\": {\n",
    "    \"exists\": {\n",
    "      \"field\": \"application\"\n",
    "    }\n",
    "  }\n",
    "}\n",
    "\n",
    "res = client.search(index=indice, body=query)\n",
    "\n",
    "print(\"Got %d Hits:\" % res['hits']['total']['value'])\n",
    "for hit in res['hits']['hits']:\n",
    "    print(\"%(timestamp)s %(raw)s\" % hit[\"_source\"])"
   ]
  },
  {
   "cell_type": "markdown",
   "metadata": {},
   "source": [
    "8. Regex Query\n",
    "https://www.elastic.co/guide/en/elasticsearch/reference/current/query-dsl-regexp-query.html"
   ]
  },
  {
   "cell_type": "code",
   "execution_count": 2,
   "metadata": {},
   "outputs": [
    {
     "name": "stdout",
     "output_type": "stream",
     "text": [
      "Got 10000 Hits:\n",
      "2021-02-24T23:44:56.200Z <29>1 2021-02-24T23:44:56.200Z up.org shaneIxD 2747 ID774 - There's a breach in the warp core, captain\n",
      "2021-02-24T23:44:56.250Z <43>1 2021-02-24T23:44:56.250Z up.org devankoshal 3940 ID420 - Pretty pretty pretty good\n",
      "2021-02-24T23:45:55.395Z <49>2 2021-02-24T23:45:55.395Z up.de benefritz 8523 ID509 - You're not gonna believe what just happened\n",
      "2021-02-24T23:45:55.435Z <90>2 2021-02-24T23:45:55.435Z up.us shaneIxD 7480 ID833 - We're gonna need a bigger boat\n",
      "2021-02-24T23:45:55.695Z <122>1 2021-02-24T23:45:55.695Z up.com Karimmove 2258 ID67 - Take a breath, let it go, walk away\n",
      "2021-02-24T23:45:55.705Z <162>1 2021-02-24T23:45:55.705Z up.com shaneIxD 9784 ID281 - Pretty pretty pretty good\n",
      "2021-02-24T23:45:55.715Z <59>2 2021-02-24T23:45:55.715Z up.us devankoshal 5168 ID985 - Maybe we just shouldn't use computers\n",
      "2021-02-24T23:45:55.825Z <135>1 2021-02-24T23:45:55.825Z up.us meln1ks 3570 ID610 - Pretty pretty pretty good\n",
      "2021-02-24T23:45:55.906Z <104>2 2021-02-24T23:45:55.906Z up.org shaneIxD 590 ID177 - #hugops to everyone who has to deal with this\n",
      "2021-02-24T23:45:55.915Z <76>2 2021-02-24T23:45:55.915Z up.de ahmadajmi 9870 ID427 - There's a breach in the warp core, captain\n"
     ]
    }
   ],
   "source": [
    "query = {\n",
    "  \"query\": {\n",
    "    \"regexp\": {\n",
    "      \"hostname\": {\n",
    "        \"value\": \"up.*\",\n",
    "        \"flags\": \"ALL\",\n",
    "        \"max_determinized_states\": 10000,\n",
    "        \"rewrite\": \"constant_score\"\n",
    "      }\n",
    "    }\n",
    "  }\n",
    "}\n",
    "\n",
    "res = client.search(index=indice, body=query)\n",
    "\n",
    "print(\"Got %d Hits:\" % res['hits']['total']['value'])\n",
    "for hit in res['hits']['hits']:\n",
    "    print(\"%(timestamp)s %(raw)s\" % hit[\"_source\"])"
   ]
  },
  {
   "cell_type": "markdown",
   "metadata": {},
   "source": [
    "9. Compount Query https://www.elastic.co/guide/en/elasticsearch/reference/current/compound-queries.html"
   ]
  },
  {
   "cell_type": "code",
   "execution_count": 8,
   "metadata": {},
   "outputs": [
    {
     "name": "stdout",
     "output_type": "stream",
     "text": [
      "Got 191 Hits:\n",
      "2021-07-21T08:45:29.551Z <61>1 2021-07-21T08:45:29.551Z random.net ahmadajmi 4404 ID651 - Maybe we just shouldn't use computers\n",
      "2021-07-21T08:45:31.291Z <64>1 2021-07-21T08:45:31.291Z random.net ahmadajmi 912 ID281 - You're not gonna believe what just happened\n",
      "2021-07-21T08:45:35.461Z <93>2 2021-07-21T08:45:35.461Z random.net ahmadajmi 506 ID579 - Pretty pretty pretty good\n",
      "2021-07-21T08:45:35.871Z <172>1 2021-07-21T08:45:35.871Z random.net ahmadajmi 9431 ID339 - There's a breach in the warp core, captain\n",
      "2021-07-21T08:45:36.941Z <172>2 2021-07-21T08:45:36.941Z random.net ahmadajmi 4072 ID499 - A bug was encountered but not in Vector, which doesn't have bugs\n",
      "2021-07-21T08:45:44.261Z <18>1 2021-07-21T08:45:44.261Z random.net ahmadajmi 6458 ID241 - We're gonna need a bigger boat\n",
      "2021-07-21T08:45:45.531Z <65>2 2021-07-21T08:45:45.531Z random.net ahmadajmi 9131 ID106 - Great Scott! We're never gonna reach 88 mph with the flux capacitor in its current state!\n",
      "2021-07-21T08:45:50.771Z <30>2 2021-07-21T08:45:50.771Z random.net ahmadajmi 5847 ID944 - We're gonna need a bigger boat\n",
      "2021-07-21T08:45:53.962Z <178>2 2021-07-21T08:45:53.962Z random.net ahmadajmi 9053 ID462 - Great Scott! We're never gonna reach 88 mph with the flux capacitor in its current state!\n",
      "2021-07-21T08:45:54.291Z <18>1 2021-07-21T08:45:54.291Z random.net ahmadajmi 1124 ID234 - Pretty pretty pretty good\n"
     ]
    }
   ],
   "source": [
    "query = {\n",
    "   \"query\": {\n",
    "      \"bool\" : {\n",
    "         \"must\" : {\n",
    "            \"term\" : { \"hostname\" : \"random.net\" }\n",
    "         },\n",
    "         \"should\": {\n",
    "            \"term\" : { \"application\" : \"ahmadajmi\" }\n",
    "         },\n",
    "         \"minimum_should_match\" : 1,\n",
    "         \"boost\" : 1.0\n",
    "      }\n",
    "   }\n",
    "}\n",
    "\n",
    "\n",
    "res = client.search(index=indice, body=query)\n",
    "\n",
    "print(\"Got %d Hits:\" % res['hits']['total']['value'])\n",
    "for hit in res['hits']['hits']:\n",
    "    print(\"%(timestamp)s %(raw)s\" % hit[\"_source\"])"
   ]
  },
  {
   "cell_type": "markdown",
   "metadata": {},
   "source": [
    "10. Count aggregation"
   ]
  },
  {
   "cell_type": "code",
   "execution_count": 9,
   "metadata": {},
   "outputs": [
    {
     "name": "stdout",
     "output_type": "stream",
     "text": [
      "Got 10000 Hits:\n"
     ]
    },
    {
     "data": {
      "text/plain": [
       "{'version_count': {'value': 50458}}"
      ]
     },
     "execution_count": 9,
     "metadata": {},
     "output_type": "execute_result"
    }
   ],
   "source": [
    "query = {\n",
    "   \"aggs\":{\n",
    "      \"version_count\":{\n",
    "         \"value_count\":{\n",
    "            \"field\":\"version\"\n",
    "         }\n",
    "      }\n",
    "   }\n",
    "}\n",
    "\n",
    "\n",
    "res = client.search(index=indice, body=query )\n",
    "\n",
    "print(\"Got %d Hits:\" % res['hits']['total']['value'])\n",
    "\n",
    "res['aggregations']"
   ]
  },
  {
   "cell_type": "markdown",
   "metadata": {},
   "source": [
    "11. Cardinality aggregation"
   ]
  },
  {
   "cell_type": "code",
   "execution_count": 10,
   "metadata": {},
   "outputs": [
    {
     "name": "stdout",
     "output_type": "stream",
     "text": [
      "Got 51165 Hits:\n",
      "{'my-agg-name': {'value': 191}}\n"
     ]
    }
   ],
   "source": [
    "query = {\n",
    "  \"aggs\": {\n",
    "    \"my-agg-name\": {\n",
    "      \"cardinality\": {\n",
    "        \"field\": \"priority\"\n",
    "      }\n",
    "    }\n",
    "  }\n",
    "}\n",
    "    \n",
    "res = client.search(index=indice, body=query, scroll='100m', size=10000)\n",
    "\n",
    "print(\"Got %d Hits:\" % res['hits']['total']['value'])\n",
    "\n",
    "print(res['aggregations'])"
   ]
  },
  {
   "cell_type": "code",
   "execution_count": null,
   "metadata": {},
   "outputs": [],
   "source": []
  }
 ],
 "metadata": {
  "kernelspec": {
   "display_name": "Python 3",
   "language": "python",
   "name": "python3"
  },
  "language_info": {
   "codemirror_mode": {
    "name": "ipython",
    "version": 3
   },
   "file_extension": ".py",
   "mimetype": "text/x-python",
   "name": "python",
   "nbconvert_exporter": "python",
   "pygments_lexer": "ipython3",
   "version": "3.8.8"
  }
 },
 "nbformat": 4,
 "nbformat_minor": 4
}
